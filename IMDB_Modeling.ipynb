{
 "cells": [
  {
   "cell_type": "markdown",
   "metadata": {},
   "source": [
    "# Predictive Modeling on IMDB Movie Data"
   ]
  },
  {
   "cell_type": "code",
   "execution_count": 1,
   "metadata": {},
   "outputs": [
    {
     "name": "stderr",
     "output_type": "stream",
     "text": [
      "/Users/jinxin/anaconda2/lib/python2.7/site-packages/sklearn/cross_validation.py:41: DeprecationWarning: This module was deprecated in version 0.18 in favor of the model_selection module into which all the refactored classes and functions are moved. Also note that the interface of the new CV iterators are different from that of this module. This module will be removed in 0.20.\n",
      "  \"This module will be removed in 0.20.\", DeprecationWarning)\n",
      "Using Theano backend.\n"
     ]
    }
   ],
   "source": [
    "from user_defined_functions.eda_functions import *\n",
    "from user_defined_functions.modeling_functions import *\n",
    "\n",
    "# display plots in notebook\n",
    "%matplotlib inline\n",
    "sns.set(style=\"whitegrid\", color_codes=True)\n",
    "\n",
    "params = {'legend.fontsize': 'x-large',\n",
    "          'figure.figsize': (12, 8),\n",
    "         'axes.labelsize': 14,\n",
    "         'axes.titlesize': 20,\n",
    "         'xtick.labelsize': 14,\n",
    "         'ytick.labelsize': 14}\n",
    "plt.rcParams.update(params)"
   ]
  },
  {
   "cell_type": "markdown",
   "metadata": {},
   "source": [
    "### 1. Baseline Models\n",
    "\n",
    "#### 1.1 Outline\n",
    "In this part, we will start with some data preprocessing work including missing value imputation and feature scaling. Then we will build the following models:\n",
    "1. Baseline models that only include the top 3 features that are mostly correlated with **imdb_score**. These three features are **num_voted_users**, **num_critic_for_reviews**, and **num_user_for_reviews**. Linear regression and random forest will be used here\n",
    "2. Models with all numerical features. Linear regression and random forest will be used here. Also we will remove some redundant features based on **feature importance** from random forest\n",
    "3. Once we have a winner from step 1 and 2, we will conclude the **Baseline Models** section with alternative machine learning algorithms e.g. XGBoost to check if the model performance is different"
   ]
  },
  {
   "cell_type": "code",
   "execution_count": 2,
   "metadata": {
    "collapsed": true
   },
   "outputs": [],
   "source": [
    "# train/test set split. Note that in the train_test_split function, the\n",
    "# random_state is set to 42. This ensures that we are dealing with the same data\n",
    "# across EDA and modeling\n",
    "imdb = pd.read_csv('movie_metadata.csv.zip', compression='zip', delimiter=',')\n",
    "data, target = imdb.drop('imdb_score', axis=1), imdb['imdb_score']\n",
    "\n",
    "X_train, X_test, y_train, y_test = train_test_split(data, target, test_size=0.2, random_state=42)\n",
    "X_train, X_test, y_train, y_test = X_train.reset_index(drop=True), X_test.reset_index(drop=True), \\\n",
    "                                   y_train.reset_index(drop=True), y_test.reset_index(drop=True)\n",
    "data_with_y = pd.concat([y_train, X_train], axis=1)"
   ]
  },
  {
   "cell_type": "code",
   "execution_count": 3,
   "metadata": {},
   "outputs": [
    {
     "data": {
      "text/plain": [
       "imdb_score                   1.000000\n",
       "num_voted_users              0.413193\n",
       "num_critic_for_reviews       0.306509\n",
       "num_user_for_reviews         0.287095\n",
       "duration                     0.261398\n",
       "movie_facebook_likes         0.250373\n",
       "gross                        0.194405\n",
       "director_facebook_likes      0.170634\n",
       "cast_total_facebook_likes    0.074107\n",
       "actor_1_facebook_likes       0.068349\n",
       "actor_2_facebook_likes       0.067940\n",
       "aspect_ratio                 0.052711\n",
       "actor_3_facebook_likes       0.042549\n",
       "budget                       0.042236\n",
       "facenumber_in_poster        -0.064741\n",
       "title_year                  -0.209739\n",
       "Name: imdb_score, dtype: float64"
      ]
     },
     "execution_count": 3,
     "metadata": {},
     "output_type": "execute_result"
    }
   ],
   "source": [
    "corr_matrix = data_with_y.corr()\n",
    "corr_matrix['imdb_score'].sort_values(ascending=False)"
   ]
  },
  {
   "cell_type": "markdown",
   "metadata": {},
   "source": [
    "first things first, let's create the training sets for step 1 and step 2 mentioned in the outline"
   ]
  },
  {
   "cell_type": "code",
   "execution_count": 4,
   "metadata": {
    "collapsed": true
   },
   "outputs": [],
   "source": [
    "# training data with only 3 features that are highly correlated with \"imdb_score\"\n",
    "X_simple_numeric = X_train[[ \"num_voted_users\", \"num_critic_for_reviews\", \"num_user_for_reviews\"]]\n",
    "\n",
    "# training data with all continuous features\n",
    "X_numeric = X_train.drop(['color',\n",
    "                         'director_name',\n",
    "                         'actor_2_name',\n",
    "                         'genres',\n",
    "                         'actor_1_name',\n",
    "                         'movie_title',\n",
    "                         'actor_3_name',\n",
    "                         'plot_keywords',\n",
    "                         'movie_imdb_link',\n",
    "                         'language',\n",
    "                         'country',\n",
    "                         'content_rating',\n",
    "                         'title_year'  # notice that in EDA, we treated year as if it was continuous. \n",
    "                                       # However, in practice, it is often treated as a categorical feature                         \n",
    "                         ], axis=1)"
   ]
  },
  {
   "cell_type": "markdown",
   "metadata": {},
   "source": [
    "#### 1.2 Missing Value Imputation\n",
    "\n",
    "As seen in our exploratory data analysis, the majority of features have missing values. Since Scikit-learn's machine learning algorithms doesn't accept missing value, we need to fill the empty holes. Let's use column median to impute the missing data. This often proves to be a valid method."
   ]
  },
  {
   "cell_type": "code",
   "execution_count": 5,
   "metadata": {},
   "outputs": [
    {
     "name": "stdout",
     "output_type": "stream",
     "text": [
      "[ 34460.    110.    157.]\n",
      "[ 34460.    110.    157.]\n"
     ]
    },
    {
     "data": {
      "text/html": [
       "<div>\n",
       "<style>\n",
       "    .dataframe thead tr:only-child th {\n",
       "        text-align: right;\n",
       "    }\n",
       "\n",
       "    .dataframe thead th {\n",
       "        text-align: left;\n",
       "    }\n",
       "\n",
       "    .dataframe tbody tr th {\n",
       "        vertical-align: top;\n",
       "    }\n",
       "</style>\n",
       "<table border=\"1\" class=\"dataframe\">\n",
       "  <thead>\n",
       "    <tr style=\"text-align: right;\">\n",
       "      <th></th>\n",
       "      <th>num_voted_users</th>\n",
       "      <th>num_critic_for_reviews</th>\n",
       "      <th>num_user_for_reviews</th>\n",
       "    </tr>\n",
       "  </thead>\n",
       "  <tbody>\n",
       "    <tr>\n",
       "      <th>0</th>\n",
       "      <td>227072.0</td>\n",
       "      <td>325.0</td>\n",
       "      <td>560.0</td>\n",
       "    </tr>\n",
       "    <tr>\n",
       "      <th>1</th>\n",
       "      <td>15315.0</td>\n",
       "      <td>65.0</td>\n",
       "      <td>117.0</td>\n",
       "    </tr>\n",
       "    <tr>\n",
       "      <th>2</th>\n",
       "      <td>58871.0</td>\n",
       "      <td>212.0</td>\n",
       "      <td>156.0</td>\n",
       "    </tr>\n",
       "    <tr>\n",
       "      <th>3</th>\n",
       "      <td>59507.0</td>\n",
       "      <td>231.0</td>\n",
       "      <td>232.0</td>\n",
       "    </tr>\n",
       "    <tr>\n",
       "      <th>4</th>\n",
       "      <td>206776.0</td>\n",
       "      <td>153.0</td>\n",
       "      <td>1248.0</td>\n",
       "    </tr>\n",
       "  </tbody>\n",
       "</table>\n",
       "</div>"
      ],
      "text/plain": [
       "   num_voted_users  num_critic_for_reviews  num_user_for_reviews\n",
       "0         227072.0                   325.0                 560.0\n",
       "1          15315.0                    65.0                 117.0\n",
       "2          58871.0                   212.0                 156.0\n",
       "3          59507.0                   231.0                 232.0\n",
       "4         206776.0                   153.0                1248.0"
      ]
     },
     "execution_count": 5,
     "metadata": {},
     "output_type": "execute_result"
    }
   ],
   "source": [
    "imputer = Imputer(strategy=\"median\")\n",
    "imputer.fit(X_simple_numeric)\n",
    "\n",
    "# compare if the imputer's result is correct\n",
    "print imputer.statistics_\n",
    "print X_simple_numeric.median().values\n",
    "\n",
    "# transform on the whole dataframe and conver the data to a dataframe\n",
    "X_simple_impute = imputer.transform(X_simple_numeric)\n",
    "X_simple_impute_df = pd.DataFrame(X_simple_impute, columns=X_simple_numeric.columns)\n",
    "X_simple_impute_df.head(5)"
   ]
  },
  {
   "cell_type": "markdown",
   "metadata": {},
   "source": [
    "#### 1.3 Feature Scaling\n",
    "\n",
    "When dealing with continuous features, we easily come across the situation where the scale of each feature is different. For imdb data, we have **duration** that's in minutes and **gross** that's in millions of dollars. Therefore, to make sure that large-scale features don't dominate other feature, we need to perform feature scaling. This is especially important for linear regression since large-scale features can easily dominate other features. For non-parametric models such as random forest, this is less of an issue."
   ]
  },
  {
   "cell_type": "code",
   "execution_count": 6,
   "metadata": {},
   "outputs": [
    {
     "data": {
      "text/html": [
       "<div>\n",
       "<style>\n",
       "    .dataframe thead tr:only-child th {\n",
       "        text-align: right;\n",
       "    }\n",
       "\n",
       "    .dataframe thead th {\n",
       "        text-align: left;\n",
       "    }\n",
       "\n",
       "    .dataframe tbody tr th {\n",
       "        vertical-align: top;\n",
       "    }\n",
       "</style>\n",
       "<table border=\"1\" class=\"dataframe\">\n",
       "  <thead>\n",
       "    <tr style=\"text-align: right;\">\n",
       "      <th></th>\n",
       "      <th>num_voted_users</th>\n",
       "      <th>num_critic_for_reviews</th>\n",
       "      <th>num_user_for_reviews</th>\n",
       "    </tr>\n",
       "  </thead>\n",
       "  <tbody>\n",
       "    <tr>\n",
       "      <th>0</th>\n",
       "      <td>1.078941</td>\n",
       "      <td>1.547766</td>\n",
       "      <td>0.768493</td>\n",
       "    </tr>\n",
       "    <tr>\n",
       "      <th>1</th>\n",
       "      <td>-0.504505</td>\n",
       "      <td>-0.627770</td>\n",
       "      <td>-0.412095</td>\n",
       "    </tr>\n",
       "    <tr>\n",
       "      <th>2</th>\n",
       "      <td>-0.178808</td>\n",
       "      <td>0.602245</td>\n",
       "      <td>-0.308161</td>\n",
       "    </tr>\n",
       "    <tr>\n",
       "      <th>3</th>\n",
       "      <td>-0.174052</td>\n",
       "      <td>0.761226</td>\n",
       "      <td>-0.105622</td>\n",
       "    </tr>\n",
       "    <tr>\n",
       "      <th>4</th>\n",
       "      <td>0.927175</td>\n",
       "      <td>0.108565</td>\n",
       "      <td>2.602003</td>\n",
       "    </tr>\n",
       "  </tbody>\n",
       "</table>\n",
       "</div>"
      ],
      "text/plain": [
       "   num_voted_users  num_critic_for_reviews  num_user_for_reviews\n",
       "0         1.078941                1.547766              0.768493\n",
       "1        -0.504505               -0.627770             -0.412095\n",
       "2        -0.178808                0.602245             -0.308161\n",
       "3        -0.174052                0.761226             -0.105622\n",
       "4         0.927175                0.108565              2.602003"
      ]
     },
     "execution_count": 6,
     "metadata": {},
     "output_type": "execute_result"
    }
   ],
   "source": [
    "scaler = StandardScaler()\n",
    "X_simple_scale = scaler.fit_transform(X_simple_impute)\n",
    "X_simple_scale_df = pd.DataFrame(X_simple_scale, columns=X_simple_numeric.columns)\n",
    "X_simple_scale_df.head(5)"
   ]
  },
  {
   "cell_type": "markdown",
   "metadata": {},
   "source": [
    "#### 1.4 Data Preprocessing Pipeline\n",
    "\n",
    "From subsetting features, imputing missing value, to scaling features, it'd be inefficient to use similar code repetitively for each model. Therefore, let's use Scikit-learn's pipeline to automate the process. Eventually, after selecting the best machine learning algorithm, we can even incorporate it into the pipeline.\n",
    "\n",
    "Since Scikit-learn doesn't have a class to subset features, we can define one. (see modeling.py)"
   ]
  },
  {
   "cell_type": "markdown",
   "metadata": {},
   "source": [
    "We have two pipelines for:\n",
    "1. Model with top 3 most correlated features with **imdb_score** \n",
    "2. Model with all numerical features"
   ]
  },
  {
   "cell_type": "code",
   "execution_count": 7,
   "metadata": {
    "collapsed": true
   },
   "outputs": [],
   "source": [
    "simple_num_features = ['num_voted_users', 'num_critic_for_reviews', 'num_user_for_reviews']\n",
    "\n",
    "full_num_features = ['num_critic_for_reviews', 'duration', 'director_facebook_likes',\n",
    "                     'actor_3_facebook_likes', 'actor_1_facebook_likes', 'gross',\n",
    "                     'num_voted_users', 'cast_total_facebook_likes',\n",
    "                     'facenumber_in_poster', 'num_user_for_reviews', 'budget',\n",
    "                     'actor_2_facebook_likes', 'aspect_ratio', 'movie_facebook_likes']\n",
    "\n",
    "simple_num_pipeline = Pipeline([\n",
    "        ('feature_selector', FeatureSelector(simple_num_features)),\n",
    "        ('imputer', Imputer(strategy=\"median\")),\n",
    "        ('feature_scaler', StandardScaler()),\n",
    "    ])\n",
    "\n",
    "full_num_pipeline = Pipeline([\n",
    "        ('feature_selector', FeatureSelector(full_num_features)),\n",
    "        ('imputer', Imputer(strategy=\"median\")),\n",
    "        ('feature_scaler', StandardScaler()),\n",
    "    ])\n",
    "\n",
    "X_simple_numeric = simple_num_pipeline.fit_transform(X_train)\n",
    "X_full_numeric = full_num_pipeline.fit_transform(X_train)"
   ]
  },
  {
   "cell_type": "markdown",
   "metadata": {},
   "source": [
    "#### 1.5 Baseline Model"
   ]
  },
  {
   "cell_type": "markdown",
   "metadata": {},
   "source": [
    "After preprocessing the data, let's use linear regression and random forest to train the data. Also, let's use RMSE to check the model performance.\n",
    "\n",
    "RMSE is short for root mean square error, it's defined as $\\sqrt{(y_{response} - y_{predict})^2}$.\n",
    "\n",
    "Alternatively, we can use MAE (mean absolute error) to evaluate a model. MAE is less affected by outliers in the data, but we have already scaled the feature to mitigate the effect of outliers, we can stick to RMSE for the rest modeling process."
   ]
  },
  {
   "cell_type": "code",
   "execution_count": 8,
   "metadata": {
    "collapsed": true
   },
   "outputs": [],
   "source": [
    "linear_simple_reg, linear_simple_rmse= train_model(X_simple_numeric, y_train, LinearRegression())\n",
    "linear_full_reg, linear_full_rmse= train_model(X_full_numeric, y_train, LinearRegression())\n",
    "forest_simple_reg, forest_simple_rmse = train_model(X_simple_numeric, y_train, RandomForestRegressor(random_state=0))\n",
    "forest_full_reg, forest_full_rmse = train_model(X_full_numeric, y_train, RandomForestRegressor(random_state=0))"
   ]
  },
  {
   "cell_type": "markdown",
   "metadata": {},
   "source": [
    "Indicated from the results below, apparenetly, we have a winner here. Random forest with full numerical features has the lowest training RMSE."
   ]
  },
  {
   "cell_type": "code",
   "execution_count": 9,
   "metadata": {},
   "outputs": [
    {
     "name": "stdout",
     "output_type": "stream",
     "text": [
      "Linear regression with 3 features RMSE: 1.00741852284\n",
      "Linear regression with full continuous features RMSE: 0.971061330301\n",
      "Random forest with 3 features RMSE: 0.442283696671\n",
      "Random forest with full continuous features RMSE: 0.355091342023\n"
     ]
    }
   ],
   "source": [
    "print \"Linear regression with 3 features RMSE: \" + str(linear_simple_rmse)\n",
    "print \"Linear regression with full continuous features RMSE: \" + str(linear_full_rmse)\n",
    "print \"Random forest with 3 features RMSE: \" + str(forest_simple_rmse)\n",
    "print \"Random forest with full continuous features RMSE: \" + str(forest_full_rmse)"
   ]
  },
  {
   "cell_type": "markdown",
   "metadata": {},
   "source": [
    "We just made predictions using our whole training set and computed RMSE. But this isn't very helpful because the model is tailored for the training data. It's hard to tell whether the model will generalize well on unseen test data. \n",
    "\n",
    "As mentioned earlier, we can only use test set once, so how do we further check if random forest is truly better? The answer is to use **cross validation**, especially **k-fold cross validation**.\n",
    "\n",
    "K-fold cross validation is to partition the dataset into K random parts. Iterate through each part, training on the rest and testing on that one. Average the performance metric across all iterations for the cross-validation score.\n",
    "\n",
    "Now let's use a 10-fold cross validation on each of the four models we have trained so far.\n",
    "\n",
    "From results below, we can see the RMSE is higher than we just got. This makes sense because in k-fold cross validation each fold is treated as if it was a unseen test set so we can avoid over fitting. It should be noted that, when the dataset is really large, k-fold validation can be very slow. 10-fold validation means we train the model 10 times. In this case, we can usually pick a smaller k, for example 3 or 5.\n",
    "\n",
    "Based on the cross validation results we can confirm that random forest with all numerical features outperforms others."
   ]
  },
  {
   "cell_type": "code",
   "execution_count": 10,
   "metadata": {
    "scrolled": false
   },
   "outputs": [
    {
     "name": "stdout",
     "output_type": "stream",
     "text": [
      "Linear regression with 3 features RMSE: \n",
      "('RMSE from 10-fold cross validation:', array([ 0.95337439,  0.99912604,  0.97920653,  1.04653987,  1.0157408 ,\n",
      "        1.0096799 ,  0.98469662,  1.06996258,  1.01663047,  1.00540754]))\n",
      "('RMSE Mean:', 1.008036472196371)\n",
      "('RMSE Standard deviation:', 0.031469721802933087)\n",
      "\n",
      "Linear regression with full continuous features RMSE: \n",
      "('RMSE from 10-fold cross validation:', array([ 0.9707842 ,  0.96884803,  0.94382333,  1.01595981,  0.98159111,\n",
      "        0.96335423,  0.95880617,  1.03339611,  0.97682137,  0.95426897]))\n",
      "('RMSE Mean:', 0.97676533130944576)\n",
      "('RMSE Standard deviation:', 0.026379257754898616)\n",
      "\n",
      "Random forest with 3 features RMSE: \n",
      "('RMSE from 10-fold cross validation:', array([ 1.01624698,  1.07340173,  0.998314  ,  1.05879491,  1.03846852,\n",
      "        1.07984582,  1.05840612,  1.07913783,  1.07025507,  1.06305601]))\n",
      "('RMSE Mean:', 1.053592700271399)\n",
      "('RMSE Standard deviation:', 0.026135755196379323)\n",
      "\n",
      "Random forest with with full continuous fueatures RMSE: \n",
      "('RMSE from 10-fold cross validation:', array([ 0.78057306,  0.89305793,  0.80953018,  0.85508656,  0.88238539,\n",
      "        0.83676649,  0.79858886,  0.90596986,  0.82169301,  0.86685006]))\n",
      "('RMSE Mean:', 0.84505014089522523)\n",
      "('RMSE Standard deviation:', 0.040221429180160757)\n",
      "\n"
     ]
    }
   ],
   "source": [
    "print \"Linear regression with 3 features RMSE: \"\n",
    "cross_validation_rmse(linear_simple_reg, X_simple_numeric, y_train),\n",
    "print \"Linear regression with full continuous features RMSE: \"\n",
    "cross_validation_rmse(linear_full_reg, X_full_numeric, y_train),\n",
    "\n",
    "print \"Random forest with 3 features RMSE: \"\n",
    "cross_validation_rmse(forest_simple_reg, X_simple_numeric, y_train),\n",
    "\n",
    "print \"Random forest with with full continuous fueatures RMSE: \"\n",
    "cross_validation_rmse(forest_full_reg, X_full_numeric, y_train)"
   ]
  },
  {
   "cell_type": "markdown",
   "metadata": {},
   "source": [
    "#### 1.6 Feature Importance Analysis\n",
    "\n",
    "For ensemble methods such as random forest, we can extract feature importance. It helps us visualize which features are more predictive. Combined with domain knowledge and understanding of the data, we might be able to remove some redundant features without harming the model performance much.\n",
    "\n",
    "**Summary: ** Based on the feature importance plot below, we can easily remove two least important featues **facenumber_in_poster** and **aspect_ratio**. All **actor_facebook_likes** features are not very important either and their correaltion with **movie_score** is low. Let's remove them as well."
   ]
  },
  {
   "cell_type": "code",
   "execution_count": 11,
   "metadata": {},
   "outputs": [
    {
     "data": {
      "image/png": "[encoded data removed]",
      "text/plain": [
       "<matplotlib.figure.Figure at 0x10ff14850>"
      ]
     },
     "metadata": {},
     "output_type": "display_data"
    }
   ],
   "source": [
    "rf_feature_importance = forest_full_reg.feature_importances_\n",
    "feature_importance_plot(rf_feature_importance, full_num_features)"
   ]
  },
  {
   "cell_type": "markdown",
   "metadata": {},
   "source": [
    "From the results below, the RMSE dropped from 0.8451 to 0.8419 after removing redudant features. Next, let's try out a few other machine learning algorithms before feature engineering."
   ]
  },
  {
   "cell_type": "code",
   "execution_count": 12,
   "metadata": {},
   "outputs": [
    {
     "name": "stdout",
     "output_type": "stream",
     "text": [
      "Random forest with full continuous features RMSE: \n",
      "('RMSE from 10-fold cross validation:', array([ 0.7532351 ,  0.8806734 ,  0.81253515,  0.85821713,  0.91930144,\n",
      "        0.82255774,  0.79162458,  0.89496732,  0.81334771,  0.87235712]))\n",
      "('RMSE Mean:', 0.84188166892814209)\n",
      "('RMSE Standard deviation:', 0.048933745135596167)\n",
      "\n"
     ]
    }
   ],
   "source": [
    "reduced_num_features = ['num_critic_for_reviews', 'duration', 'director_facebook_likes',\n",
    "                        'gross', 'num_voted_users', 'cast_total_facebook_likes',\n",
    "                        'num_user_for_reviews', 'budget']\n",
    "reduced_num_pipeline = Pipeline([\n",
    "        ('feature_selector', FeatureSelector(reduced_num_features)),\n",
    "        ('imputer', Imputer(strategy=\"median\")),\n",
    "        ('feature_scaler', StandardScaler()),\n",
    "    ])\n",
    "\n",
    "X_reduced_numeric = reduced_num_pipeline.fit_transform(X_train)\n",
    "forest_reduced_reg, forest_reduced_rmse = train_model(X_reduced_numeric, y_train, RandomForestRegressor(random_state=0))\n",
    "\n",
    "print \"Random forest with full continuous features RMSE: \"\n",
    "cross_validation_rmse(forest_reduced_reg, X_reduced_numeric, y_train)"
   ]
  },
  {
   "cell_type": "markdown",
   "metadata": {},
   "source": [
    "#### 1.7 Alternative Methods\n",
    "\n",
    "I have selected the following algorithms: gradient boosting from Scikit-learn, Keras, and XGBoost. I haven't done any hyperparamter-tuning here since the default parameter value is often good enough for model comparison.\n",
    "\n",
    "After comparing all three algorithms, I decided to use XGBoost from now on for its better performance.\n",
    "\n",
    "##### 1.71 Gradient Boosting\n",
    "\n",
    "Gradient boosting further reduced the cross validation RMSE from 0.8419 to 0.8144."
   ]
  },
  {
   "cell_type": "code",
   "execution_count": 13,
   "metadata": {},
   "outputs": [
    {
     "name": "stdout",
     "output_type": "stream",
     "text": [
      "('RMSE from 10-fold cross validation:', array([ 0.7338963 ,  0.84737523,  0.77850277,  0.85833261,  0.83663206,\n",
      "        0.81081576,  0.76596801,  0.86791741,  0.81318195,  0.83133303]))\n",
      "('RMSE Mean:', 0.81439551003206301)\n",
      "('RMSE Standard deviation:', 0.040978030434183514)\n",
      "\n"
     ]
    }
   ],
   "source": [
    "gradient_reduced_reg, gradient_reduced_rmse = train_model(X_reduced_numeric, y_train, GradientBoostingRegressor(random_state=0))\n",
    "cross_validation_rmse(gradient_reduced_reg, X_reduced_numeric, y_train)"
   ]
  },
  {
   "cell_type": "markdown",
   "metadata": {},
   "source": [
    "##### 1.72 Keras\n",
    "Neural networks are usually applied to image and genome data, but we can surely try it out on movie data. Here I used a one-hidden-layer neural network because the data set is quite small.\n",
    "\n",
    "From Keras, the MSE on validation set is 0.7684 the RMSE (square root of MSE) is 0.8765. It doesn't outperform gradient boosting."
   ]
  },
  {
   "cell_type": "code",
   "execution_count": 14,
   "metadata": {
    "scrolled": true
   },
   "outputs": [
    {
     "name": "stdout",
     "output_type": "stream",
     "text": [
      "Train on 3630 samples, validate on 404 samples\n",
      "Epoch 1/50\n",
      "0s - loss: 14.7725 - val_loss: 3.4055\n",
      "Epoch 2/50\n",
      "0s - loss: 2.6822 - val_loss: 1.5313\n",
      "Epoch 3/50\n",
      "0s - loss: 1.3626 - val_loss: 1.1390\n",
      "Epoch 4/50\n",
      "0s - loss: 1.0437 - val_loss: 1.0989\n",
      "Epoch 5/50\n",
      "0s - loss: 0.9498 - val_loss: 1.0183\n",
      "Epoch 6/50\n",
      "0s - loss: 0.8847 - val_loss: 0.9421\n",
      "Epoch 7/50\n",
      "0s - loss: 0.8444 - val_loss: 0.9358\n",
      "Epoch 8/50\n",
      "0s - loss: 0.8236 - val_loss: 0.9261\n",
      "Epoch 9/50\n",
      "0s - loss: 0.8067 - val_loss: 0.8703\n",
      "Epoch 10/50\n",
      "0s - loss: 0.7903 - val_loss: 0.8451\n",
      "Epoch 11/50\n",
      "0s - loss: 0.7816 - val_loss: 0.8309\n",
      "Epoch 12/50\n",
      "0s - loss: 0.7676 - val_loss: 0.8579\n",
      "Epoch 13/50\n",
      "0s - loss: 0.7771 - val_loss: 0.9025\n",
      "Epoch 14/50\n",
      "0s - loss: 0.7761 - val_loss: 0.8611\n",
      "Epoch 15/50\n",
      "0s - loss: 0.7712 - val_loss: 0.8228\n",
      "Epoch 16/50\n",
      "0s - loss: 0.7766 - val_loss: 0.8241\n",
      "Epoch 17/50\n",
      "0s - loss: 0.7562 - val_loss: 0.8083\n",
      "Epoch 18/50\n",
      "0s - loss: 0.7479 - val_loss: 0.7763\n",
      "Epoch 19/50\n",
      "0s - loss: 0.7473 - val_loss: 0.7999\n",
      "Epoch 20/50\n",
      "0s - loss: 0.7487 - val_loss: 0.7821\n",
      "Epoch 21/50\n",
      "0s - loss: 0.7437 - val_loss: 0.8080\n",
      "Epoch 22/50\n",
      "0s - loss: 0.7468 - val_loss: 0.8667\n",
      "Epoch 23/50\n",
      "0s - loss: 0.7630 - val_loss: 0.8050\n",
      "Epoch 24/50\n",
      "0s - loss: 0.7548 - val_loss: 0.8638\n",
      "Epoch 25/50\n",
      "0s - loss: 0.8006 - val_loss: 0.7808\n",
      "Epoch 26/50\n",
      "0s - loss: 0.7270 - val_loss: 0.7783\n",
      "Epoch 27/50\n",
      "0s - loss: 0.7348 - val_loss: 0.7715\n",
      "Epoch 28/50\n",
      "0s - loss: 0.7163 - val_loss: 0.7567\n",
      "Epoch 29/50\n",
      "0s - loss: 0.7036 - val_loss: 0.7624\n",
      "Epoch 30/50\n",
      "0s - loss: 0.7294 - val_loss: 0.7917\n",
      "Epoch 31/50\n",
      "0s - loss: 0.7251 - val_loss: 0.7954\n",
      "Epoch 32/50\n",
      "0s - loss: 0.7133 - val_loss: 0.7769\n",
      "Epoch 33/50\n",
      "0s - loss: 0.7285 - val_loss: 0.7791\n",
      "Epoch 34/50\n",
      "0s - loss: 0.7358 - val_loss: 0.7923\n",
      "Epoch 35/50\n",
      "0s - loss: 0.7090 - val_loss: 0.7970\n",
      "Epoch 36/50\n",
      "0s - loss: 0.7019 - val_loss: 0.7757\n",
      "Epoch 37/50\n",
      "0s - loss: 0.6929 - val_loss: 0.7660\n",
      "Epoch 38/50\n",
      "0s - loss: 0.7226 - val_loss: 0.7740\n",
      "Epoch 39/50\n",
      "0s - loss: 0.7109 - val_loss: 0.7715\n",
      "Epoch 40/50\n",
      "0s - loss: 0.6975 - val_loss: 0.7445\n",
      "Epoch 41/50\n",
      "0s - loss: 0.7147 - val_loss: 0.8288\n",
      "Epoch 42/50\n",
      "0s - loss: 0.7227 - val_loss: 0.7989\n",
      "Epoch 43/50\n",
      "0s - loss: 0.6899 - val_loss: 0.8661\n",
      "Epoch 44/50\n",
      "0s - loss: 0.7506 - val_loss: 0.7836\n",
      "Epoch 45/50\n",
      "0s - loss: 0.7003 - val_loss: 0.7519\n",
      "Epoch 46/50\n",
      "0s - loss: 0.6992 - val_loss: 0.8880\n",
      "Epoch 47/50\n",
      "0s - loss: 0.7294 - val_loss: 0.7542\n",
      "Epoch 48/50\n",
      "0s - loss: 0.6996 - val_loss: 0.7799\n",
      "Epoch 49/50\n",
      "0s - loss: 0.6849 - val_loss: 0.7655\n",
      "Epoch 50/50\n",
      "0s - loss: 0.6693 - val_loss: 0.8007\n"
     ]
    },
    {
     "data": {
      "text/plain": [
       "<keras.callbacks.History at 0x122d54e50>"
      ]
     },
     "execution_count": 14,
     "metadata": {},
     "output_type": "execute_result"
    }
   ],
   "source": [
    "model = Sequential()\n",
    "\n",
    "# the hidden layer\n",
    "model.add(Dense(500, input_dim=X_reduced_numeric.shape[1], activation='relu'))\n",
    "\n",
    "# the final layer\n",
    "model.add(Dense(1))\n",
    "\n",
    "# Compile model\n",
    "model.compile(loss='mean_squared_error', optimizer='adam')\n",
    "model.fit(X_reduced_numeric, y_train, validation_split=0.1, epochs=50, batch_size=30, verbose=2)"
   ]
  },
  {
   "cell_type": "markdown",
   "metadata": {},
   "source": [
    "##### 1.73 XGBoost\n",
    "\n",
    "XGBoost further reduced the RMSE from 0.8143 (gradient boosting) to 0.8106. Therefore, let's use XGBoost for the rest modeling process."
   ]
  },
  {
   "cell_type": "code",
   "execution_count": 15,
   "metadata": {
    "scrolled": false
   },
   "outputs": [
    {
     "name": "stdout",
     "output_type": "stream",
     "text": [
      "('RMSE from 10-fold cross validation:', array([ 0.7313973 ,  0.85113154,  0.77156097,  0.85197099,  0.82899475,\n",
      "        0.81184401,  0.76275801,  0.85934375,  0.80852319,  0.82855624]))\n",
      "('RMSE Mean:', 0.81060807564630843)\n",
      "('RMSE Standard deviation:', 0.040599188136697703)\n",
      "\n"
     ]
    }
   ],
   "source": [
    "xgboost_reduced_reg, xgboost_reduced_rmse = train_model(X_reduced_numeric, y_train, XGBRegressor())\n",
    "cross_validation_rmse(xgboost_reduced_reg, X_reduced_numeric, y_train)"
   ]
  },
  {
   "cell_type": "markdown",
   "metadata": {},
   "source": [
    "### 2. Feature Engineering\n",
    "\n",
    "In this section, we will engineer some new numerical and categorical features. Exploratory data analysis is going to be helpful here.\n",
    "\n",
    "#### 2.1 Continuous Features\n",
    "\n",
    "As we discussed earlier, the **budget** of some movies is not expressed in US dollars. Let's turn these values into None and impute them with budget median of the rest movies later on."
   ]
  },
  {
   "cell_type": "code",
   "execution_count": 16,
   "metadata": {
    "collapsed": true
   },
   "outputs": [],
   "source": [
    "data_with_y['budget'] = data_with_y['budget'].apply(budget_adjust)"
   ]
  },
  {
   "cell_type": "markdown",
   "metadata": {},
   "source": [
    "When we looked at the average rating of **directors** and **actor 1** in the exploratory data analysis, we saw that the rating is very different across people. So let's create two new average rating features based on **director_name** and **actor_1_name**."
   ]
  },
  {
   "cell_type": "code",
   "execution_count": 17,
   "metadata": {
    "collapsed": true
   },
   "outputs": [],
   "source": [
    "director_avg_df = avg_rating(data_with_y, 'director_name')\n",
    "actor1_avg_df = avg_rating(data_with_y, 'actor_1_name')\n",
    "\n",
    "data_with_y = pd.merge(data_with_y, director_avg_df, how='left', on=['director_name'])\n",
    "data_with_y = pd.merge(data_with_y, actor1_avg_df, how='left', on=['actor_1_name'])"
   ]
  },
  {
   "cell_type": "markdown",
   "metadata": {},
   "source": [
    "Indeed, the correlation between the new features and **imdb_score** is very high."
   ]
  },
  {
   "cell_type": "code",
   "execution_count": 18,
   "metadata": {},
   "outputs": [
    {
     "data": {
      "text/plain": [
       "imdb_score                   1.000000\n",
       "avg_director_name_score      0.868420\n",
       "avg_actor_1_name_score       0.775038\n",
       "num_voted_users              0.413193\n",
       "num_critic_for_reviews       0.306509\n",
       "num_user_for_reviews         0.287095\n",
       "duration                     0.261398\n",
       "movie_facebook_likes         0.250373\n",
       "gross                        0.194405\n",
       "director_facebook_likes      0.170634\n",
       "cast_total_facebook_likes    0.074107\n",
       "actor_1_facebook_likes       0.068349\n",
       "actor_2_facebook_likes       0.067940\n",
       "aspect_ratio                 0.052711\n",
       "actor_3_facebook_likes       0.042549\n",
       "budget                       0.039094\n",
       "facenumber_in_poster        -0.064741\n",
       "title_year                  -0.209739\n",
       "Name: imdb_score, dtype: float64"
      ]
     },
     "execution_count": 18,
     "metadata": {},
     "output_type": "execute_result"
    }
   ],
   "source": [
    "corr_matrix = data_with_y.corr()\n",
    "corr_matrix['imdb_score'].sort_values(ascending=False)"
   ]
  },
  {
   "cell_type": "code",
   "execution_count": 19,
   "metadata": {
    "scrolled": false
   },
   "outputs": [
    {
     "data": {
      "text/html": [
       "<div>\n",
       "<style>\n",
       "    .dataframe thead tr:only-child th {\n",
       "        text-align: right;\n",
       "    }\n",
       "\n",
       "    .dataframe thead th {\n",
       "        text-align: left;\n",
       "    }\n",
       "\n",
       "    .dataframe tbody tr th {\n",
       "        vertical-align: top;\n",
       "    }\n",
       "</style>\n",
       "<table border=\"1\" class=\"dataframe\">\n",
       "  <thead>\n",
       "    <tr style=\"text-align: right;\">\n",
       "      <th></th>\n",
       "      <th>imdb_score</th>\n",
       "      <th>color</th>\n",
       "      <th>director_name</th>\n",
       "      <th>num_critic_for_reviews</th>\n",
       "      <th>duration</th>\n",
       "      <th>director_facebook_likes</th>\n",
       "      <th>actor_3_facebook_likes</th>\n",
       "      <th>actor_2_name</th>\n",
       "      <th>actor_1_facebook_likes</th>\n",
       "      <th>gross</th>\n",
       "      <th>...</th>\n",
       "      <th>language</th>\n",
       "      <th>country</th>\n",
       "      <th>content_rating</th>\n",
       "      <th>budget</th>\n",
       "      <th>title_year</th>\n",
       "      <th>actor_2_facebook_likes</th>\n",
       "      <th>aspect_ratio</th>\n",
       "      <th>movie_facebook_likes</th>\n",
       "      <th>avg_director_name_score</th>\n",
       "      <th>avg_actor_1_name_score</th>\n",
       "    </tr>\n",
       "  </thead>\n",
       "  <tbody>\n",
       "    <tr>\n",
       "      <th>0</th>\n",
       "      <td>6.9</td>\n",
       "      <td>Color</td>\n",
       "      <td>Albert Hughes</td>\n",
       "      <td>325.0</td>\n",
       "      <td>118.0</td>\n",
       "      <td>117.0</td>\n",
       "      <td>10000.0</td>\n",
       "      <td>Mila Kunis</td>\n",
       "      <td>18000.0</td>\n",
       "      <td>94822707.0</td>\n",
       "      <td>...</td>\n",
       "      <td>English</td>\n",
       "      <td>USA</td>\n",
       "      <td>R</td>\n",
       "      <td>80000000.0</td>\n",
       "      <td>2010.0</td>\n",
       "      <td>15000.0</td>\n",
       "      <td>2.35</td>\n",
       "      <td>20000</td>\n",
       "      <td>6.850000</td>\n",
       "      <td>7.023810</td>\n",
       "    </tr>\n",
       "    <tr>\n",
       "      <th>1</th>\n",
       "      <td>5.0</td>\n",
       "      <td>Color</td>\n",
       "      <td>David Wain</td>\n",
       "      <td>65.0</td>\n",
       "      <td>96.0</td>\n",
       "      <td>136.0</td>\n",
       "      <td>139.0</td>\n",
       "      <td>Ken Marino</td>\n",
       "      <td>4000.0</td>\n",
       "      <td>766487.0</td>\n",
       "      <td>...</td>\n",
       "      <td>English</td>\n",
       "      <td>USA</td>\n",
       "      <td>R</td>\n",
       "      <td>5250000.0</td>\n",
       "      <td>2007.0</td>\n",
       "      <td>543.0</td>\n",
       "      <td>1.85</td>\n",
       "      <td>915</td>\n",
       "      <td>5.800000</td>\n",
       "      <td>5.833333</td>\n",
       "    </tr>\n",
       "    <tr>\n",
       "      <th>2</th>\n",
       "      <td>6.5</td>\n",
       "      <td>Color</td>\n",
       "      <td>Roger Michell</td>\n",
       "      <td>212.0</td>\n",
       "      <td>107.0</td>\n",
       "      <td>50.0</td>\n",
       "      <td>58.0</td>\n",
       "      <td>Patti D'Arbanville</td>\n",
       "      <td>293.0</td>\n",
       "      <td>30993544.0</td>\n",
       "      <td>...</td>\n",
       "      <td>English</td>\n",
       "      <td>USA</td>\n",
       "      <td>PG-13</td>\n",
       "      <td>40000000.0</td>\n",
       "      <td>2010.0</td>\n",
       "      <td>117.0</td>\n",
       "      <td>2.35</td>\n",
       "      <td>0</td>\n",
       "      <td>6.666667</td>\n",
       "      <td>6.500000</td>\n",
       "    </tr>\n",
       "    <tr>\n",
       "      <th>3</th>\n",
       "      <td>7.8</td>\n",
       "      <td>Color</td>\n",
       "      <td>Paul Verhoeven</td>\n",
       "      <td>231.0</td>\n",
       "      <td>145.0</td>\n",
       "      <td>719.0</td>\n",
       "      <td>104.0</td>\n",
       "      <td>Sebastian Koch</td>\n",
       "      <td>2000.0</td>\n",
       "      <td>4398392.0</td>\n",
       "      <td>...</td>\n",
       "      <td>Dutch</td>\n",
       "      <td>Netherlands</td>\n",
       "      <td>R</td>\n",
       "      <td>21000000.0</td>\n",
       "      <td>2006.0</td>\n",
       "      <td>380.0</td>\n",
       "      <td>2.35</td>\n",
       "      <td>0</td>\n",
       "      <td>6.775000</td>\n",
       "      <td>7.400000</td>\n",
       "    </tr>\n",
       "    <tr>\n",
       "      <th>4</th>\n",
       "      <td>6.9</td>\n",
       "      <td>Color</td>\n",
       "      <td>Cameron Crowe</td>\n",
       "      <td>153.0</td>\n",
       "      <td>141.0</td>\n",
       "      <td>488.0</td>\n",
       "      <td>509.0</td>\n",
       "      <td>Ivana Milicevic</td>\n",
       "      <td>10000.0</td>\n",
       "      <td>100614858.0</td>\n",
       "      <td>...</td>\n",
       "      <td>English</td>\n",
       "      <td>USA</td>\n",
       "      <td>R</td>\n",
       "      <td>68000000.0</td>\n",
       "      <td>2001.0</td>\n",
       "      <td>834.0</td>\n",
       "      <td>1.85</td>\n",
       "      <td>0</td>\n",
       "      <td>6.580000</td>\n",
       "      <td>7.114286</td>\n",
       "    </tr>\n",
       "  </tbody>\n",
       "</table>\n",
       "<p>5 rows × 30 columns</p>\n",
       "</div>"
      ],
      "text/plain": [
       "   imdb_score  color   director_name  num_critic_for_reviews  duration  \\\n",
       "0         6.9  Color   Albert Hughes                   325.0     118.0   \n",
       "1         5.0  Color      David Wain                    65.0      96.0   \n",
       "2         6.5  Color   Roger Michell                   212.0     107.0   \n",
       "3         7.8  Color  Paul Verhoeven                   231.0     145.0   \n",
       "4         6.9  Color   Cameron Crowe                   153.0     141.0   \n",
       "\n",
       "   director_facebook_likes  actor_3_facebook_likes        actor_2_name  \\\n",
       "0                    117.0                 10000.0          Mila Kunis   \n",
       "1                    136.0                   139.0          Ken Marino   \n",
       "2                     50.0                    58.0  Patti D'Arbanville   \n",
       "3                    719.0                   104.0      Sebastian Koch   \n",
       "4                    488.0                   509.0     Ivana Milicevic   \n",
       "\n",
       "   actor_1_facebook_likes        gross           ...           language  \\\n",
       "0                 18000.0   94822707.0           ...            English   \n",
       "1                  4000.0     766487.0           ...            English   \n",
       "2                   293.0   30993544.0           ...            English   \n",
       "3                  2000.0    4398392.0           ...              Dutch   \n",
       "4                 10000.0  100614858.0           ...            English   \n",
       "\n",
       "       country content_rating      budget  title_year actor_2_facebook_likes  \\\n",
       "0          USA              R  80000000.0      2010.0                15000.0   \n",
       "1          USA              R   5250000.0      2007.0                  543.0   \n",
       "2          USA          PG-13  40000000.0      2010.0                  117.0   \n",
       "3  Netherlands              R  21000000.0      2006.0                  380.0   \n",
       "4          USA              R  68000000.0      2001.0                  834.0   \n",
       "\n",
       "   aspect_ratio movie_facebook_likes avg_director_name_score  \\\n",
       "0          2.35                20000                6.850000   \n",
       "1          1.85                  915                5.800000   \n",
       "2          2.35                    0                6.666667   \n",
       "3          2.35                    0                6.775000   \n",
       "4          1.85                    0                6.580000   \n",
       "\n",
       "   avg_actor_1_name_score  \n",
       "0                7.023810  \n",
       "1                5.833333  \n",
       "2                6.500000  \n",
       "3                7.400000  \n",
       "4                7.114286  \n",
       "\n",
       "[5 rows x 30 columns]"
      ]
     },
     "execution_count": 19,
     "metadata": {},
     "output_type": "execute_result"
    }
   ],
   "source": [
    "data_with_y.head(5)"
   ]
  },
  {
   "cell_type": "markdown",
   "metadata": {},
   "source": [
    "#### 2.2 Categorical Features\n",
    "\n",
    "In this section, we will engineer the following new features:\n",
    "1. **year_category**: in the orginal dataset, we have a **title_year** feature. As can be seen from the scatter plot below, movies produced before 1980 have higher ratings than afterward. Therefore, **year_category** feature will have two unique values: **before_1980** and **after_1980**\n",
    "2. **content_rating**: the values are \"PG_13\", \"R\", \"G\", etc. From our earlier exploratory data analysis, this feature might be helpful\n",
    "3. **num_genres**: in the dataset, we have a **genres** feature, some movies only belong to one or two genres while others belong to multiplie. We can create a **num_genres** feature that indicates the number of genres a movie belong to. **num_genres** will be a numerical feature\n",
    "\n",
    "##### 2.21 Year Category\n",
    "\n",
    "The scatter plot below shows that movies produced before 1980 have higher ratings than after."
   ]
  },
  {
   "cell_type": "code",
   "execution_count": 20,
   "metadata": {
    "scrolled": false
   },
   "outputs": [
    {
     "data": {
      "text/plain": [
       "<matplotlib.axes._subplots.AxesSubplot at 0x122d65190>"
      ]
     },
     "execution_count": 20,
     "metadata": {},
     "output_type": "execute_result"
    },
    {
     "data": {
      "image/png": "[encoded data removed]",
      "text/plain": [
       "<matplotlib.figure.Figure at 0x11d7bcd50>"
      ]
     },
     "metadata": {},
     "output_type": "display_data"
    }
   ],
   "source": [
    "sns.regplot(x='title_year', y='imdb_score', data=data_with_y)"
   ]
  },
  {
   "cell_type": "markdown",
   "metadata": {},
   "source": [
    "After grouping **title_year** into two categories **before_1980** and **after_1980**, the distribution and the mean between two categories are indeed very different."
   ]
  },
  {
   "cell_type": "code",
   "execution_count": 21,
   "metadata": {
    "scrolled": false
   },
   "outputs": [
    {
     "data": {
      "image/png": "[encoded data removed]",
      "text/plain": [
       "<matplotlib.figure.Figure at 0x1235dcdd0>"
      ]
     },
     "metadata": {},
     "output_type": "display_data"
    },
    {
     "data": {
      "image/png": "[encoded data removed]",
      "text/plain": [
       "<matplotlib.figure.Figure at 0x123b14fd0>"
      ]
     },
     "metadata": {},
     "output_type": "display_data"
    }
   ],
   "source": [
    "data_with_y['year_cat'] = data_with_y['title_year'].apply(year_category)\n",
    "year_cat_df = subset_by_freq_value(data_with_y, 'year_cat')\n",
    "cat_boxplot(year_cat_df, 'year_cat')\n",
    "cat_meanplot(year_cat_df, 'year_cat')"
   ]
  },
  {
   "cell_type": "markdown",
   "metadata": {},
   "source": [
    "##### 2.22 Number of Genres\n",
    "Next, let's creat a **num_genres** feature from **genres**."
   ]
  },
  {
   "cell_type": "code",
   "execution_count": 22,
   "metadata": {
    "scrolled": true
   },
   "outputs": [
    {
     "data": {
      "text/plain": [
       "0            Action|Adventure|Drama|Thriller\n",
       "1                             Comedy|Romance\n",
       "2                       Comedy|Drama|Romance\n",
       "3                         Drama|Thriller|War\n",
       "4    Fantasy|Mystery|Romance|Sci-Fi|Thriller\n",
       "Name: genres, dtype: object"
      ]
     },
     "execution_count": 22,
     "metadata": {},
     "output_type": "execute_result"
    }
   ],
   "source": [
    "data_with_y['genres'].head(5)"
   ]
  },
  {
   "cell_type": "markdown",
   "metadata": {},
   "source": [
    "We can see that most movies belong to two to four categories:"
   ]
  },
  {
   "cell_type": "code",
   "execution_count": 23,
   "metadata": {},
   "outputs": [
    {
     "data": {
      "text/plain": [
       "3    1304\n",
       "2    1075\n",
       "4     786\n",
       "1     508\n",
       "5     282\n",
       "6      60\n",
       "7      15\n",
       "8       4\n",
       "Name: num_genre, dtype: int64"
      ]
     },
     "execution_count": 23,
     "metadata": {},
     "output_type": "execute_result"
    }
   ],
   "source": [
    "data_with_y['num_genre'] = data_with_y['genres'].apply(num_genres)\n",
    "data_with_y['num_genre'].value_counts()"
   ]
  },
  {
   "cell_type": "markdown",
   "metadata": {},
   "source": [
    "From the boxplot and meanplot below we see that movies with less genre numbers have a wider **imdb_score** distribution and the means are differnt across various **num_genre** groups.\n",
    "\n",
    "PS: even though **num_genre** is a numerical feature, we can still use boxplot because the feature only takes on a few unique values."
   ]
  },
  {
   "cell_type": "code",
   "execution_count": 24,
   "metadata": {
    "scrolled": false
   },
   "outputs": [
    {
     "data": {
      "image/png": "[encoded data removed]",
      "text/plain": [
       "<matplotlib.figure.Figure at 0x122d54fd0>"
      ]
     },
     "metadata": {},
     "output_type": "display_data"
    },
    {
     "data": {
      "image/png": "[encoded data removed]",
      "text/plain": [
       "<matplotlib.figure.Figure at 0x12397fc10>"
      ]
     },
     "metadata": {},
     "output_type": "display_data"
    }
   ],
   "source": [
    "year_cat_df = subset_by_freq_value(data_with_y, 'num_genre')\n",
    "cat_boxplot(year_cat_df, 'num_genre')\n",
    "cat_meanplot(year_cat_df, 'num_genre')"
   ]
  },
  {
   "cell_type": "markdown",
   "metadata": {},
   "source": [
    "##### 2.23 Content Rating\n",
    "\n",
    "Let's create a **content_cat** feature that keep the most frequent attributes including \"R\", \"PG-13\", and \"PG\" and group others into \"Other\"."
   ]
  },
  {
   "cell_type": "code",
   "execution_count": 25,
   "metadata": {},
   "outputs": [
    {
     "data": {
      "text/html": [
       "<div>\n",
       "<style>\n",
       "    .dataframe thead tr:only-child th {\n",
       "        text-align: right;\n",
       "    }\n",
       "\n",
       "    .dataframe thead th {\n",
       "        text-align: left;\n",
       "    }\n",
       "\n",
       "    .dataframe tbody tr th {\n",
       "        vertical-align: top;\n",
       "    }\n",
       "</style>\n",
       "<table border=\"1\" class=\"dataframe\">\n",
       "  <thead>\n",
       "    <tr style=\"text-align: right;\">\n",
       "      <th></th>\n",
       "      <th>content_rating</th>\n",
       "      <th>count</th>\n",
       "    </tr>\n",
       "  </thead>\n",
       "  <tbody>\n",
       "    <tr>\n",
       "      <th>0</th>\n",
       "      <td>R</td>\n",
       "      <td>1721</td>\n",
       "    </tr>\n",
       "    <tr>\n",
       "      <th>1</th>\n",
       "      <td>PG-13</td>\n",
       "      <td>1167</td>\n",
       "    </tr>\n",
       "    <tr>\n",
       "      <th>2</th>\n",
       "      <td>PG</td>\n",
       "      <td>558</td>\n",
       "    </tr>\n",
       "    <tr>\n",
       "      <th>3</th>\n",
       "      <td>Not Rated</td>\n",
       "      <td>87</td>\n",
       "    </tr>\n",
       "    <tr>\n",
       "      <th>4</th>\n",
       "      <td>G</td>\n",
       "      <td>82</td>\n",
       "    </tr>\n",
       "    <tr>\n",
       "      <th>5</th>\n",
       "      <td>Unrated</td>\n",
       "      <td>52</td>\n",
       "    </tr>\n",
       "    <tr>\n",
       "      <th>6</th>\n",
       "      <td>Approved</td>\n",
       "      <td>42</td>\n",
       "    </tr>\n",
       "    <tr>\n",
       "      <th>7</th>\n",
       "      <td>TV-14</td>\n",
       "      <td>24</td>\n",
       "    </tr>\n",
       "    <tr>\n",
       "      <th>8</th>\n",
       "      <td>TV-MA</td>\n",
       "      <td>15</td>\n",
       "    </tr>\n",
       "    <tr>\n",
       "      <th>9</th>\n",
       "      <td>TV-PG</td>\n",
       "      <td>11</td>\n",
       "    </tr>\n",
       "  </tbody>\n",
       "</table>\n",
       "</div>"
      ],
      "text/plain": [
       "  content_rating  count\n",
       "0              R   1721\n",
       "1          PG-13   1167\n",
       "2             PG    558\n",
       "3      Not Rated     87\n",
       "4              G     82\n",
       "5        Unrated     52\n",
       "6       Approved     42\n",
       "7          TV-14     24\n",
       "8          TV-MA     15\n",
       "9          TV-PG     11"
      ]
     },
     "execution_count": 25,
     "metadata": {},
     "output_type": "execute_result"
    }
   ],
   "source": [
    "top_frequent_value(data_with_y, 'content_rating')"
   ]
  },
  {
   "cell_type": "code",
   "execution_count": 26,
   "metadata": {
    "collapsed": true
   },
   "outputs": [],
   "source": [
    "data_with_y['content_cat'] = data_with_y['content_rating'].apply(content_rating_cat)"
   ]
  },
  {
   "cell_type": "markdown",
   "metadata": {},
   "source": [
    "### 3. Final Model\n",
    "\n",
    "After all the exploratory data analysis and baseline modeling, we have finally come to the final modeling part! :)\n",
    "\n",
    "In this section, we will do the following:\n",
    "1. A model with all categorical and numerical features we have used and engineered so far\n",
    "2. We then select the most important features and run another model\n",
    "3. Fine-tune our best model to make it even better\n",
    "\n",
    "#### 3.1 Model with Full Features\n",
    "After using new features in the model we see that the RMSE dropped from 0.8114 to 0.4381 which is a significant improvement."
   ]
  },
  {
   "cell_type": "code",
   "execution_count": 27,
   "metadata": {
    "scrolled": false
   },
   "outputs": [
    {
     "name": "stdout",
     "output_type": "stream",
     "text": [
      "XGBoost with full features RMSE: \n",
      "('RMSE from 10-fold cross validation:', array([ 0.44958992,  0.41458874,  0.42832496,  0.49165994,  0.44954819,\n",
      "        0.43240006,  0.45953004,  0.45057724,  0.44415152,  0.39686196]))\n",
      "('RMSE Mean:', 0.44172325798614853)\n",
      "('RMSE Standard deviation:', 0.024563003756218296)\n",
      "\n"
     ]
    }
   ],
   "source": [
    "cat_features = ['year_cat', 'content_cat']\n",
    "num_features = ['num_critic_for_reviews', 'duration', 'director_facebook_likes',\n",
    "                'gross', 'num_voted_users', 'cast_total_facebook_likes',\n",
    "                'num_user_for_reviews', 'budget', 'avg_director_name_score', \n",
    "                'avg_actor_1_name_score', 'num_genre']\n",
    "\n",
    "# numerical feature pipeline\n",
    "num_pipeline = Pipeline([('feature_selector', FeatureSelector(num_features)),\n",
    "                         ('imputer', Imputer(strategy=\"median\")),\n",
    "                         ('feature_scaler', StandardScaler())])\n",
    "\n",
    "# sklearn doesn't have a function that fill missing values for categorical features\n",
    "# we need to use the fillna function from pandas here\n",
    "data_with_y[cat_features] = data_with_y[cat_features].fillna(value='missing')\n",
    "\n",
    "# categorical feature pipeline\n",
    "cat_pipeline = Pipeline([('feature_selector', FeatureSelector(cat_features)),\n",
    "                         ('one_hot_encoder', CategoricalEncoder(encoding='onehot-dense'))]) \n",
    "\n",
    "full_preprocess_pipeline = FeatureUnion(transformer_list =[('num_pipeline', num_pipeline), \n",
    "                                                           ('cat_pipeline', cat_pipeline)])\n",
    "\n",
    "X_train_full = full_preprocess_pipeline.fit_transform(data_with_y)\n",
    "xgboost_full_reg, xgboost_full_rmse = train_model(X_train_full, y_train, XGBRegressor())\n",
    "\n",
    "print \"XGBoost with full features RMSE: \"\n",
    "cross_validation_rmse(xgboost_full_reg, X_train_full, y_train)"
   ]
  },
  {
   "cell_type": "markdown",
   "metadata": {},
   "source": [
    "#### 3.2 Model with Most Importance Features"
   ]
  },
  {
   "cell_type": "markdown",
   "metadata": {},
   "source": [
    "From the feature importance plot below we see that new features are truly very predictive, **avg_director_name_score** and **avg_actor_1_name_score** are the top 2 important features."
   ]
  },
  {
   "cell_type": "code",
   "execution_count": 28,
   "metadata": {
    "scrolled": false
   },
   "outputs": [],
   "source": [
    "cat_encoder = cat_pipeline.named_steps[\"one_hot_encoder\"]\n",
    "cat_one_hot_features = list(cat_encoder.categories_[0]) + list(cat_encoder.categories_[1])\n",
    "feature_list = num_features + cat_one_hot_features\n",
    "xgb_feature_importance = xgboost_full_reg.booster().get_score(importance_type='gain').values()"
   ]
  },
  {
   "cell_type": "code",
   "execution_count": 29,
   "metadata": {},
   "outputs": [
    {
     "data": {
      "image/png": "[encoded data removed]",
      "text/plain": [
       "<matplotlib.figure.Figure at 0x124162b10>"
      ]
     },
     "metadata": {},
     "output_type": "display_data"
    }
   ],
   "source": [
    "feature_importance_plot(xgb_feature_importance, feature_list[:len(xgb_feature_importance)])"
   ]
  },
  {
   "cell_type": "markdown",
   "metadata": {},
   "source": [
    "Now the model has 17 features. It's not a large number but can we remove some redundant ones? The answer is yes! We can define a TopFeatureSelector class and use it in the pipeline. Here, I removed the 5 least most important features."
   ]
  },
  {
   "cell_type": "code",
   "execution_count": 30,
   "metadata": {},
   "outputs": [
    {
     "data": {
      "text/plain": [
       "('Number of featreus in the model: ', 17)"
      ]
     },
     "execution_count": 30,
     "metadata": {},
     "output_type": "execute_result"
    }
   ],
   "source": [
    "('Number of featreus in the model: ', len(X_train_full[0]))"
   ]
  },
  {
   "cell_type": "markdown",
   "metadata": {},
   "source": [
    "After training the model on the rest features, the RMSE changed from 0.4417 to 0.4412, we slightly improved the model performance."
   ]
  },
  {
   "cell_type": "code",
   "execution_count": 31,
   "metadata": {},
   "outputs": [
    {
     "name": "stdout",
     "output_type": "stream",
     "text": [
      "XGBoost with most important features RMSE: \n",
      "('RMSE from 10-fold cross validation:', array([ 0.44765321,  0.41326995,  0.43087498,  0.49312831,  0.44961094,\n",
      "        0.43300809,  0.4579884 ,  0.44964061,  0.4384804 ,  0.39813409]))\n",
      "('RMSE Mean:', 0.44117889788056253)\n",
      "('RMSE Standard deviation:', 0.024449737155891573)\n",
      "\n"
     ]
    }
   ],
   "source": [
    "final_pipeline = Pipeline([\n",
    "    ('preparation', full_preprocess_pipeline),\n",
    "    ('feature_selection', TopFeatureSelector(xgb_feature_importance, 12))\n",
    "])\n",
    "\n",
    "X_train_final = final_pipeline.fit_transform(data_with_y)\n",
    "xgboost_reg, xgboost_rmse = train_model(X_train_final, y_train, XGBRegressor())\n",
    "\n",
    "print \"XGBoost with most important features RMSE: \"\n",
    "cross_validation_rmse(xgboost_reg, X_train_final, y_train)"
   ]
  },
  {
   "cell_type": "markdown",
   "metadata": {},
   "source": [
    "#### 3.3 Fine-tune XGBoost\n",
    "\n",
    "XGBoost is very powerful yet very complicated to tune. For a detailed intro on how to tune its hyperparameters, please refer to this link: https://www.analyticsvidhya.com/blog/2016/03/complete-guide-parameter-tuning-xgboost-with-codes-python/\n",
    "\n",
    "Here, we can use sklearn's GridSearchCV to tune the model. Given a dictionary of parameter names and candidate values, GridSearchCV will traverse through all possible combinations of values of parameters, then it trains the model using the best combination.\n",
    "\n",
    "XGBoost has more than 10 parameters to tune, I used three of them as a demonstration."
   ]
  },
  {
   "cell_type": "code",
   "execution_count": 32,
   "metadata": {},
   "outputs": [
    {
     "data": {
      "text/plain": [
       "GridSearchCV(cv=5, error_score='raise',\n",
       "       estimator=XGBRegressor(base_score=0.5, colsample_bylevel=1, colsample_bytree=1, gamma=0,\n",
       "       learning_rate=0.1, max_delta_step=0, max_depth=3,\n",
       "       min_child_weight=1, missing=None, n_estimators=100, nthread=-1,\n",
       "       objective='reg:linear', reg_alpha=0, reg_lambda=1,\n",
       "       scale_pos_weight=1, seed=0, silent=True, subsample=1),\n",
       "       fit_params=None, iid=True, n_jobs=1,\n",
       "       param_grid={'n_estimators': [100, 300], 'learning_rate': [0.001, 0.1, 0.3], 'reg_alpha': [0, 0.1]},\n",
       "       pre_dispatch='2*n_jobs', refit=True, return_train_score=True,\n",
       "       scoring='neg_mean_squared_error', verbose=0)"
      ]
     },
     "execution_count": 32,
     "metadata": {},
     "output_type": "execute_result"
    }
   ],
   "source": [
    "param_distribs = {\n",
    "        'learning_rate': [0.001, 0.1, 0.3],\n",
    "        'n_estimators': [100, 300],\n",
    "        'reg_alpha': [0, 0.1]\n",
    "    }\n",
    "\n",
    "clf = GridSearchCV(XGBRegressor(), param_distribs, cv=5,\n",
    "                   scoring='neg_mean_squared_error')\n",
    "clf.fit(X_train_final, y_train)"
   ]
  },
  {
   "cell_type": "markdown",
   "metadata": {},
   "source": [
    "### 4. Productionize the Model\n",
    "\n",
    "#### 4.1 Predict on Test Set\n",
    "\n",
    "First, we need to create the new features for the test set."
   ]
  },
  {
   "cell_type": "code",
   "execution_count": 33,
   "metadata": {
    "collapsed": true
   },
   "outputs": [],
   "source": [
    "X_test = pd.merge(X_test, director_avg_df, how='left', on=['director_name'])\n",
    "X_test_prepared = pd.merge(X_test, actor1_avg_df, how='left', on=['actor_1_name'])\n",
    "\n",
    "X_test_prepared['year_cat'] = X_test_prepared['title_year'].apply(year_category)\n",
    "X_test_prepared['num_genre'] = X_test_prepared['genres'].apply(num_genres)\n",
    "X_test_prepared['content_cat'] = X_test_prepared['content_rating'].apply(content_rating_cat)"
   ]
  },
  {
   "cell_type": "code",
   "execution_count": 34,
   "metadata": {},
   "outputs": [
    {
     "data": {
      "text/html": [
       "<div>\n",
       "<style>\n",
       "    .dataframe thead tr:only-child th {\n",
       "        text-align: right;\n",
       "    }\n",
       "\n",
       "    .dataframe thead th {\n",
       "        text-align: left;\n",
       "    }\n",
       "\n",
       "    .dataframe tbody tr th {\n",
       "        vertical-align: top;\n",
       "    }\n",
       "</style>\n",
       "<table border=\"1\" class=\"dataframe\">\n",
       "  <thead>\n",
       "    <tr style=\"text-align: right;\">\n",
       "      <th></th>\n",
       "      <th>color</th>\n",
       "      <th>director_name</th>\n",
       "      <th>num_critic_for_reviews</th>\n",
       "      <th>duration</th>\n",
       "      <th>director_facebook_likes</th>\n",
       "      <th>actor_3_facebook_likes</th>\n",
       "      <th>actor_2_name</th>\n",
       "      <th>actor_1_facebook_likes</th>\n",
       "      <th>gross</th>\n",
       "      <th>genres</th>\n",
       "      <th>...</th>\n",
       "      <th>budget</th>\n",
       "      <th>title_year</th>\n",
       "      <th>actor_2_facebook_likes</th>\n",
       "      <th>aspect_ratio</th>\n",
       "      <th>movie_facebook_likes</th>\n",
       "      <th>avg_director_name_score</th>\n",
       "      <th>avg_actor_1_name_score</th>\n",
       "      <th>year_cat</th>\n",
       "      <th>num_genre</th>\n",
       "      <th>content_cat</th>\n",
       "    </tr>\n",
       "  </thead>\n",
       "  <tbody>\n",
       "    <tr>\n",
       "      <th>0</th>\n",
       "      <td>Color</td>\n",
       "      <td>Sai Varadan</td>\n",
       "      <td>3.0</td>\n",
       "      <td>89.0</td>\n",
       "      <td>0.0</td>\n",
       "      <td>163.0</td>\n",
       "      <td>Hassan Johnson</td>\n",
       "      <td>196.0</td>\n",
       "      <td>NaN</td>\n",
       "      <td>Drama</td>\n",
       "      <td>...</td>\n",
       "      <td>125000.0</td>\n",
       "      <td>2014.0</td>\n",
       "      <td>180.0</td>\n",
       "      <td>NaN</td>\n",
       "      <td>72</td>\n",
       "      <td>NaN</td>\n",
       "      <td>NaN</td>\n",
       "      <td>after_1980</td>\n",
       "      <td>1</td>\n",
       "      <td>R</td>\n",
       "    </tr>\n",
       "    <tr>\n",
       "      <th>1</th>\n",
       "      <td>Color</td>\n",
       "      <td>Craig Gillespie</td>\n",
       "      <td>151.0</td>\n",
       "      <td>124.0</td>\n",
       "      <td>44.0</td>\n",
       "      <td>367.0</td>\n",
       "      <td>Suraj Sharma</td>\n",
       "      <td>4000.0</td>\n",
       "      <td>36447959.0</td>\n",
       "      <td>Biography|Drama|Sport</td>\n",
       "      <td>...</td>\n",
       "      <td>25000000.0</td>\n",
       "      <td>2014.0</td>\n",
       "      <td>774.0</td>\n",
       "      <td>2.39</td>\n",
       "      <td>10000</td>\n",
       "      <td>6.866667</td>\n",
       "      <td>5.833333</td>\n",
       "      <td>after_1980</td>\n",
       "      <td>3</td>\n",
       "      <td>PG</td>\n",
       "    </tr>\n",
       "    <tr>\n",
       "      <th>2</th>\n",
       "      <td>Color</td>\n",
       "      <td>James Mangold</td>\n",
       "      <td>125.0</td>\n",
       "      <td>123.0</td>\n",
       "      <td>446.0</td>\n",
       "      <td>821.0</td>\n",
       "      <td>Natasha Lyonne</td>\n",
       "      <td>20000.0</td>\n",
       "      <td>47095453.0</td>\n",
       "      <td>Comedy|Fantasy|Romance</td>\n",
       "      <td>...</td>\n",
       "      <td>48000000.0</td>\n",
       "      <td>2001.0</td>\n",
       "      <td>1000.0</td>\n",
       "      <td>1.85</td>\n",
       "      <td>0</td>\n",
       "      <td>7.100000</td>\n",
       "      <td>6.633333</td>\n",
       "      <td>after_1980</td>\n",
       "      <td>3</td>\n",
       "      <td>PG-13</td>\n",
       "    </tr>\n",
       "    <tr>\n",
       "      <th>3</th>\n",
       "      <td>Color</td>\n",
       "      <td>Jennifer Wynne Farmer</td>\n",
       "      <td>2.0</td>\n",
       "      <td>107.0</td>\n",
       "      <td>0.0</td>\n",
       "      <td>236.0</td>\n",
       "      <td>Akima</td>\n",
       "      <td>752.0</td>\n",
       "      <td>10508.0</td>\n",
       "      <td>Drama</td>\n",
       "      <td>...</td>\n",
       "      <td>700000.0</td>\n",
       "      <td>1998.0</td>\n",
       "      <td>282.0</td>\n",
       "      <td>NaN</td>\n",
       "      <td>102</td>\n",
       "      <td>NaN</td>\n",
       "      <td>NaN</td>\n",
       "      <td>after_1980</td>\n",
       "      <td>1</td>\n",
       "      <td>PG-13</td>\n",
       "    </tr>\n",
       "    <tr>\n",
       "      <th>4</th>\n",
       "      <td>Color</td>\n",
       "      <td>Dario Argento</td>\n",
       "      <td>76.0</td>\n",
       "      <td>120.0</td>\n",
       "      <td>930.0</td>\n",
       "      <td>433.0</td>\n",
       "      <td>Adrienne Barbeau</td>\n",
       "      <td>982.0</td>\n",
       "      <td>349618.0</td>\n",
       "      <td>Horror</td>\n",
       "      <td>...</td>\n",
       "      <td>9000000.0</td>\n",
       "      <td>1990.0</td>\n",
       "      <td>602.0</td>\n",
       "      <td>1.85</td>\n",
       "      <td>375</td>\n",
       "      <td>NaN</td>\n",
       "      <td>4.800000</td>\n",
       "      <td>after_1980</td>\n",
       "      <td>1</td>\n",
       "      <td>R</td>\n",
       "    </tr>\n",
       "  </tbody>\n",
       "</table>\n",
       "<p>5 rows × 32 columns</p>\n",
       "</div>"
      ],
      "text/plain": [
       "   color          director_name  num_critic_for_reviews  duration  \\\n",
       "0  Color            Sai Varadan                     3.0      89.0   \n",
       "1  Color        Craig Gillespie                   151.0     124.0   \n",
       "2  Color          James Mangold                   125.0     123.0   \n",
       "3  Color  Jennifer Wynne Farmer                     2.0     107.0   \n",
       "4  Color          Dario Argento                    76.0     120.0   \n",
       "\n",
       "   director_facebook_likes  actor_3_facebook_likes      actor_2_name  \\\n",
       "0                      0.0                   163.0    Hassan Johnson   \n",
       "1                     44.0                   367.0      Suraj Sharma   \n",
       "2                    446.0                   821.0    Natasha Lyonne   \n",
       "3                      0.0                   236.0             Akima   \n",
       "4                    930.0                   433.0  Adrienne Barbeau   \n",
       "\n",
       "   actor_1_facebook_likes       gross                  genres     ...      \\\n",
       "0                   196.0         NaN                   Drama     ...       \n",
       "1                  4000.0  36447959.0   Biography|Drama|Sport     ...       \n",
       "2                 20000.0  47095453.0  Comedy|Fantasy|Romance     ...       \n",
       "3                   752.0     10508.0                   Drama     ...       \n",
       "4                   982.0    349618.0                  Horror     ...       \n",
       "\n",
       "       budget title_year  actor_2_facebook_likes  aspect_ratio  \\\n",
       "0    125000.0     2014.0                   180.0           NaN   \n",
       "1  25000000.0     2014.0                   774.0          2.39   \n",
       "2  48000000.0     2001.0                  1000.0          1.85   \n",
       "3    700000.0     1998.0                   282.0           NaN   \n",
       "4   9000000.0     1990.0                   602.0          1.85   \n",
       "\n",
       "  movie_facebook_likes  avg_director_name_score avg_actor_1_name_score  \\\n",
       "0                   72                      NaN                    NaN   \n",
       "1                10000                 6.866667               5.833333   \n",
       "2                    0                 7.100000               6.633333   \n",
       "3                  102                      NaN                    NaN   \n",
       "4                  375                      NaN               4.800000   \n",
       "\n",
       "     year_cat  num_genre content_cat  \n",
       "0  after_1980          1           R  \n",
       "1  after_1980          3          PG  \n",
       "2  after_1980          3       PG-13  \n",
       "3  after_1980          1       PG-13  \n",
       "4  after_1980          1           R  \n",
       "\n",
       "[5 rows x 32 columns]"
      ]
     },
     "execution_count": 34,
     "metadata": {},
     "output_type": "execute_result"
    }
   ],
   "source": [
    "X_test_prepared.head(5)"
   ]
  },
  {
   "cell_type": "markdown",
   "metadata": {},
   "source": [
    "Using the pipeline, we can preprocess the tes tset with just one line of code."
   ]
  },
  {
   "cell_type": "code",
   "execution_count": 35,
   "metadata": {
    "scrolled": false
   },
   "outputs": [],
   "source": [
    "X_test_final = final_pipeline.transform(X_test_prepared)"
   ]
  },
  {
   "cell_type": "markdown",
   "metadata": {},
   "source": [
    "Now, let's predict on the test set. The RMSE is 0.9791 which means on average, our prediction is about 0.97 point off the actual movie rating of movies in the test set. Let's also save the predictions into a csv file."
   ]
  },
  {
   "cell_type": "code",
   "execution_count": 36,
   "metadata": {},
   "outputs": [
    {
     "name": "stdout",
     "output_type": "stream",
     "text": [
      "RMSE on test set is: 0.97912341142\n"
     ]
    },
    {
     "data": {
      "text/html": [
       "<div>\n",
       "<style>\n",
       "    .dataframe thead tr:only-child th {\n",
       "        text-align: right;\n",
       "    }\n",
       "\n",
       "    .dataframe thead th {\n",
       "        text-align: left;\n",
       "    }\n",
       "\n",
       "    .dataframe tbody tr th {\n",
       "        vertical-align: top;\n",
       "    }\n",
       "</style>\n",
       "<table border=\"1\" class=\"dataframe\">\n",
       "  <thead>\n",
       "    <tr style=\"text-align: right;\">\n",
       "      <th></th>\n",
       "      <th>movie_title</th>\n",
       "      <th>moving_rating</th>\n",
       "      <th>rating_prediction</th>\n",
       "    </tr>\n",
       "  </thead>\n",
       "  <tbody>\n",
       "    <tr>\n",
       "      <th>0</th>\n",
       "      <td>An American in Hollywood</td>\n",
       "      <td>7.2</td>\n",
       "      <td>6.722827</td>\n",
       "    </tr>\n",
       "    <tr>\n",
       "      <th>1</th>\n",
       "      <td>Million Dollar Arm</td>\n",
       "      <td>7.0</td>\n",
       "      <td>6.107563</td>\n",
       "    </tr>\n",
       "    <tr>\n",
       "      <th>2</th>\n",
       "      <td>Kate &amp; Leopold</td>\n",
       "      <td>6.4</td>\n",
       "      <td>6.649538</td>\n",
       "    </tr>\n",
       "    <tr>\n",
       "      <th>3</th>\n",
       "      <td>Naturally Native</td>\n",
       "      <td>6.5</td>\n",
       "      <td>6.817553</td>\n",
       "    </tr>\n",
       "    <tr>\n",
       "      <th>4</th>\n",
       "      <td>Two Evil Eyes</td>\n",
       "      <td>6.1</td>\n",
       "      <td>5.900502</td>\n",
       "    </tr>\n",
       "    <tr>\n",
       "      <th>5</th>\n",
       "      <td>You Can't Take It with You</td>\n",
       "      <td>8.0</td>\n",
       "      <td>7.421243</td>\n",
       "    </tr>\n",
       "    <tr>\n",
       "      <th>6</th>\n",
       "      <td>Star Wars: Episode I - The Phantom Menace</td>\n",
       "      <td>6.5</td>\n",
       "      <td>7.424752</td>\n",
       "    </tr>\n",
       "    <tr>\n",
       "      <th>7</th>\n",
       "      <td>Pokémon 3: The Movie</td>\n",
       "      <td>5.6</td>\n",
       "      <td>6.676925</td>\n",
       "    </tr>\n",
       "    <tr>\n",
       "      <th>8</th>\n",
       "      <td>The Dead Zone</td>\n",
       "      <td>7.5</td>\n",
       "      <td>7.052846</td>\n",
       "    </tr>\n",
       "    <tr>\n",
       "      <th>9</th>\n",
       "      <td>The Wolverine</td>\n",
       "      <td>6.7</td>\n",
       "      <td>7.090773</td>\n",
       "    </tr>\n",
       "  </tbody>\n",
       "</table>\n",
       "</div>"
      ],
      "text/plain": [
       "                                  movie_title  moving_rating  \\\n",
       "0                   An American in Hollywood             7.2   \n",
       "1                         Million Dollar Arm             7.0   \n",
       "2                             Kate & Leopold             6.4   \n",
       "3                           Naturally Native             6.5   \n",
       "4                              Two Evil Eyes             6.1   \n",
       "5                 You Can't Take It with You             8.0   \n",
       "6  Star Wars: Episode I - The Phantom Menace             6.5   \n",
       "7                       Pokémon 3: The Movie             5.6   \n",
       "8                  The Dead Zone                         7.5   \n",
       "9                              The Wolverine             6.7   \n",
       "\n",
       "   rating_prediction  \n",
       "0           6.722827  \n",
       "1           6.107563  \n",
       "2           6.649538  \n",
       "3           6.817553  \n",
       "4           5.900502  \n",
       "5           7.421243  \n",
       "6           7.424752  \n",
       "7           6.676925  \n",
       "8           7.052846  \n",
       "9           7.090773  "
      ]
     },
     "execution_count": 36,
     "metadata": {},
     "output_type": "execute_result"
    }
   ],
   "source": [
    "y_test_pred = clf.predict(X_test_final)\n",
    "print 'RMSE on test set is: ' + str(np.sqrt(mean_squared_error(y_test, y_test_pred)))\n",
    "predict_df = pd.DataFrame({'movie_title': X_test['movie_title'], 'moving_rating':y_test, 'rating_prediction':y_test_pred})\n",
    "predict_df.to_csv('IMDB_movie_rating_prediction.csv', index=None)\n",
    "predict_df.head(10)"
   ]
  },
  {
   "cell_type": "markdown",
   "metadata": {},
   "source": [
    "#### 4.2 Save Model for Production\n",
    "\n",
    "Finally, we are about to wrap up the end-to-end machine learning process! The last step is to save our model. Next time when we want to make predictions for a new movie, we can simply load and use our pre-trained model."
   ]
  },
  {
   "cell_type": "code",
   "execution_count": 37,
   "metadata": {},
   "outputs": [
    {
     "data": {
      "text/plain": [
       "GridSearchCV(cv=5, error_score='raise',\n",
       "       estimator=XGBRegressor(base_score=0.5, colsample_bylevel=1, colsample_bytree=1, gamma=0,\n",
       "       learning_rate=0.1, max_delta_step=0, max_depth=3,\n",
       "       min_child_weight=1, missing=nan, n_estimators=100, nthread=-1,\n",
       "       objective='reg:linear', reg_alpha=0, reg_lambda=1,\n",
       "       scale_pos_weight=1, seed=0, silent=True, subsample=1),\n",
       "       fit_params=None, iid=True, n_jobs=1,\n",
       "       param_grid={'n_estimators': [100, 300], 'learning_rate': [0.001, 0.1, 0.3], 'reg_alpha': [0, 0.1]},\n",
       "       pre_dispatch='2*n_jobs', refit=True, return_train_score=True,\n",
       "       scoring='neg_mean_squared_error', verbose=0)"
      ]
     },
     "execution_count": 37,
     "metadata": {},
     "output_type": "execute_result"
    }
   ],
   "source": [
    "joblib.dump(clf, \"imdb_model.pkl\")\n",
    "imdb_model = joblib.load(\"imdb_model.pkl\")\n",
    "imdb_model"
   ]
  },
  {
   "cell_type": "markdown",
   "metadata": {},
   "source": [
    "### 5. Final Discussion"
   ]
  },
  {
   "cell_type": "markdown",
   "metadata": {},
   "source": [
    "#### 5.1 Potential Improvements\n",
    "\n",
    "The RMSE on the test set is 0.9791. This is not a bad score, but certainly not a great one. This performance can be a result of the following reasons:\n",
    "1. We don't have enough strong features. Most of the original numerical features have a low correlation with **imdb_score**. We can incorporate other data including:\n",
    "    * User/critic reviews. We would get a better sense of how people perceive a movie using sentiment analysis\n",
    "    * Moving rating from other websites, e.g. Rotten Tomato\n",
    "    * Number of awards a movie has won\n",
    "    * Type of awards a movie has won, e.g. Golden Globe and Oscar\n",
    "2. We don't have enough data. If we have more data, the average **imdb_score** for director and actors could be more useful. In the current dataset lots of actors or directors only have one movie, the average score for them will just be the **imdb_score** of the movie. This will likely causes our model to overfit the data. It'd be more insightful if we can compute the average score for a person based on multiplie movies she/he is in\n",
    "\n",
    "#### 5.2 Business Insights\n",
    "\n",
    "What is the business implication of this project? Maybe in the future when a film studio is deciding on investing in a new movie they can take our model's prediction into consideration. We won't have the **gross** or **awards** data for the new movie yet. But average rating of director and actors can be helpful. Certainly, this can only happen when we have a rather robust model."
   ]
  }
 ],
 "metadata": {
  "kernelspec": {
   "display_name": "Python 2",
   "language": "python",
   "name": "python2"
  },
  "language_info": {
   "codemirror_mode": {
    "name": "ipython",
    "version": 2
   },
   "file_extension": ".py",
   "mimetype": "text/x-python",
   "name": "python",
   "nbconvert_exporter": "python",
   "pygments_lexer": "ipython2",
   "version": "2.7.13"
  }
 },
 "nbformat": 4,
 "nbformat_minor": 2
}
